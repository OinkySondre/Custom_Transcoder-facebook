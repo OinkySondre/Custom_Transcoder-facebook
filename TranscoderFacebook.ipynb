{
  "nbformat": 4,
  "nbformat_minor": 0,
  "metadata": {
    "colab": {
      "name": "TranslateFUnker.ipynb",
      "provenance": [],
      "collapsed_sections": []
    },
    "kernelspec": {
      "name": "python3",
      "display_name": "Python 3"
    },
    "accelerator": "GPU"
  },
  "cells": [
    {
      "cell_type": "code",
      "metadata": {
        "id": "jw4o8r6imM0q"
      },
      "source": [
        "import os"
      ],
      "execution_count": 1,
      "outputs": []
    },
    {
      "cell_type": "code",
      "metadata": {
        "id": "zQkUJe-PmO-s"
      },
      "source": [
        "!pip install six\n",
        "!pip install sacrebleu==\"1.2.11\""
      ],
      "execution_count": null,
      "outputs": []
    },
    {
      "cell_type": "code",
      "metadata": {
        "id": "3Mbzw1RwmP1p"
      },
      "source": [
        "!pip install submitit\n",
        "!pip install clang==6.0.0.2"
      ],
      "execution_count": null,
      "outputs": []
    },
    {
      "cell_type": "code",
      "metadata": {
        "id": "qtMvtRskmO55"
      },
      "source": [
        "!git clone https://github.com/glample/fastBPE"
      ],
      "execution_count": null,
      "outputs": []
    },
    {
      "cell_type": "code",
      "metadata": {
        "id": "pg1HriaYmO3Q"
      },
      "source": [
        "os.chdir(\"fastBPE\")"
      ],
      "execution_count": 4,
      "outputs": []
    },
    {
      "cell_type": "code",
      "metadata": {
        "id": "Tk5doN-wmO09"
      },
      "source": [
        "!python setup.py install"
      ],
      "execution_count": null,
      "outputs": []
    },
    {
      "cell_type": "code",
      "metadata": {
        "id": "6SjNvTYymOyl"
      },
      "source": [
        "os.chdir(\"..\")"
      ],
      "execution_count": 6,
      "outputs": []
    },
    {
      "cell_type": "code",
      "metadata": {
        "id": "zISspi3RmOwc"
      },
      "source": [
        "! git clone https://github.com/NVIDIA/apex"
      ],
      "execution_count": null,
      "outputs": []
    },
    {
      "cell_type": "code",
      "metadata": {
        "id": "GsIMwlCWmOuI"
      },
      "source": [
        "os.chdir(\"apex\")\n",
        "!pip install -v --no-cache-dir ./"
      ],
      "execution_count": null,
      "outputs": []
    },
    {
      "cell_type": "code",
      "metadata": {
        "id": "HuOMYDvbmOrx"
      },
      "source": [
        "os.chdir(\"..\")"
      ],
      "execution_count": 9,
      "outputs": []
    },
    {
      "cell_type": "code",
      "metadata": {
        "id": "VDm0-16NmOpJ"
      },
      "source": [
        "!git clone https://github.com/facebookresearch/TransCoder.git"
      ],
      "execution_count": null,
      "outputs": []
    },
    {
      "cell_type": "code",
      "metadata": {
        "id": "tS3ZU2ntmqxY"
      },
      "source": [
        "!wget https://dl.fbaipublicfiles.com/transcoder/model_2.pth\n",
        "#Change the last url word to\n",
        "# \"model_2.pth\" if you want C++ -> Python, Python -> C++ and Python -> Java\n",
        "# or \"model_1.pth\" if you want  C++ -> Java, Java -> C++ and Java -> Python"
      ],
      "execution_count": null,
      "outputs": []
    },
    {
      "cell_type": "code",
      "metadata": {
        "id": "MuRLBOuBmqu-"
      },
      "source": [
        "!python TransCoder/translate.py --src_lang python --tgt_lang cpp \\\\\n",
        "--BPE_path TransCoder/data/BPE_with_comments_codes --model_path model_2.pth < test.py"
      ],
      "execution_count": null,
      "outputs": []
    },
    {
      "cell_type": "code",
      "metadata": {
        "id": "nia-Ev2RmqsF"
      },
      "source": [
        "# Click files and place content you want to translate beside sample_data\n",
        "# If outside of standard url, the standard url is \"cd /content\"\n",
        "\n",
        "#cd /content/TransCoder/preprocessing/src/ #code_tokenizer.py \n",
        "#go to url and open file, line 24 og change text to:\n",
        "#clang.cindex.Config.set_library_path('/usr/lib/llvm-6.0/lib')\n",
        "\n",
        "#cd /usr/lib/llvm-6.0/lib/\n",
        "#go to url and change name libclang.so.1 to libclang.so\n",
        "\n",
        "#check at top \"Runtime\"-->\"Change runtime type\" is set to GPU"
      ],
      "execution_count": 16,
      "outputs": []
    }
  ]
}